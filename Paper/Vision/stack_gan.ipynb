{
  "nbformat": 4,
  "nbformat_minor": 0,
  "metadata": {
    "colab": {
      "name": "stack_gan.ipynb",
      "provenance": [],
      "collapsed_sections": [],
      "authorship_tag": "ABX9TyNuvkcGQ6xuPccgyVEVHxk/",
      "include_colab_link": true
    },
    "kernelspec": {
      "name": "python3",
      "display_name": "Python 3"
    }
  },
  "cells": [
    {
      "cell_type": "markdown",
      "metadata": {
        "id": "view-in-github",
        "colab_type": "text"
      },
      "source": [
        "<a href=\"https://colab.research.google.com/github/saitros/100days-commit-project/blob/master/Paper/Vision/stack_gan.ipynb\" target=\"_parent\"><img src=\"https://colab.research.google.com/assets/colab-badge.svg\" alt=\"Open In Colab\"/></a>"
      ]
    },
    {
      "cell_type": "code",
      "metadata": {
        "id": "k4VBl1-ThUuL",
        "colab_type": "code",
        "colab": {}
      },
      "source": [
        "try:\n",
        "  %tensorflow_version 2.x\n",
        "except Exception:\n",
        "  pass\n",
        "import tensorflow as tf"
      ],
      "execution_count": 0,
      "outputs": []
    },
    {
      "cell_type": "code",
      "metadata": {
        "id": "PpN4zHmThVxH",
        "colab_type": "code",
        "colab": {}
      },
      "source": [
        "import glob\n",
        "\n",
        "import matplotlib.pyplot as plt\n",
        "import numpy as np\n",
        "import os\n",
        "import PIL\n",
        "from tensorflow.keras import layers\n",
        "import time\n",
        "import json\n",
        "\n",
        "from IPython import display"
      ],
      "execution_count": 0,
      "outputs": []
    },
    {
      "cell_type": "code",
      "metadata": {
        "id": "UN1Wj7zrqGj8",
        "colab_type": "code",
        "colab": {}
      },
      "source": [
        "# text conditioning variable  is c \n",
        "# text embedding is \\pi \n",
        "# \\pi is output of text description\n",
        "# if \\pi have 256 dimension \n",
        "# \\mu is \\pi[:,:128]\n",
        "# \\sigma \\pi[:, 128:]\n",
        "# \\epsilon tf.random.normal(shape= \\sigma, mean=\\mu, stddev=tf.math.sqrt(\\sigma))\n",
        "# c = \\mu + \\sigma * \\epsilon"
      ],
      "execution_count": 0,
      "outputs": []
    },
    {
      "cell_type": "code",
      "metadata": {
        "id": "kH0b--e1pGsU",
        "colab_type": "code",
        "colab": {}
      },
      "source": [
        "class StackGan():\n",
        "    def __init__(self):\n",
        "        print('Stack Gan Initialize')\n",
        "\n",
        "    def embedding_model(self, text_seq):\n",
        "        model = tf.keras.Sequential([\n",
        "            tf.keras.layers.Embedding(input_dim=data_config['vocab_size'],\n",
        "                                      output_dim=256, input_length=22)])\n",
        "\n",
        "        return model(text_seq, training=False)\n",
        "\n",
        "    def ca_model(self, text_embedding):\n",
        "        #condition.shape default 128 at paper \n",
        "\n",
        "        mu = text_embedding[:,:128]\n",
        "        sigma = text_embedding[:, 128:]\n",
        "        epsilon = tf.random.normal(shape=sigma.shape, mean=mu, stddev=tf.math.sqrt(sigma))\n",
        "\n",
        "        condition = tf.math.multiply(sigma * epsilon) + mu\n",
        "\n",
        "        return condition\n",
        "        \n",
        "\n",
        "    def stage1_g(self, condition, noise):\n",
        "        # noise.shape default 100 at paper \n",
        "\n",
        "        merged_x = tf.concat([condition, noise], axis=-1)\n",
        "        # 128 + 100 = 228\n",
        "\n",
        "        # to mnist real img size is 28, 28 \n",
        "        # upsampling 7,7 --> 14, 14 --> 28, 28 (stage 2 ?)\n",
        "        # stage 2 --> high resolution \n",
        "        '''\n",
        "        First Discussion :\n",
        "            About Color Mnist, discussing stage-2 GAN.\n",
        "        '''\n",
        "        # upsampling to 64,64 \n",
        "        model = tf.keras.Sequential()\n",
        "        model.add(tf.keras.layers.Dense(7*7*256, use_bias=False, input_shape=z.shape))\n",
        "        # use ReLU after Batch normal \n",
        "        model.add(tf.keras.layers.BatchNormalization())\n",
        "        model.add(tf.keras.layers.ReLU())\n",
        "\n",
        "        model.add(tf.keras.layers.Reshape((7, 7, 256)))\n",
        "        assert model.output_shape == (None, 7, 7, 256)\n",
        "\n",
        "        model.add(tf.keras.layers.Conv2DTranspose(128, (3, 3), strides=1, padding='same', use_bias=False))\n",
        "        assert model.output_shape == (None, 7, 7, 128)\n",
        "        model.add(tf.keras.layers.BatchNormalization())\n",
        "        model.add(tf.keras.layers.ReLU())\n",
        "\n",
        "        model.add(tf.keras.layers.Conv2DTranspose(64, (3, 3), strides=1 padding='same', use_bias=False))\n",
        "        assert model.output_shape == (None, 14, 14, 64)\n",
        "        model.add(tf.keras.layers.BatchNormalization())\n",
        "        model.add(tf.keras.layers.ReLU()\n",
        " \n",
        "        model.add(tf.keras.layers.Conv2DTranspose(3, (3, 3), strides=1, padding='same', use_bias=False, activation='tanh'))\n",
        "        assert model.output_shape == (None, 28, 28, 3)\n",
        "\n",
        "        return model(merged_x)\n",
        "\n",
        "    def stage1_d(self, text_embedding, img):\n",
        "        # 2^6 to 2^2 \n",
        "        # 28 \n",
        "        downsmaple_model = tf.keras.Sequential()\n",
        "        downsmaple_model.add(tf.keras.layers.Conv2D(64, (4, 4), strides=2, padding='same', use_bias=False))\n",
        "        downsmaple_model.add(tf.keras.layers.LeakyReLU())\n",
        "\n",
        "        downsmaple_model.add(tf.keras.layers.Conv2D(128, (4, 4), strides=2, padding='same', use_bias=False))\n",
        "        downsmaple_model.add(tf.keras.layers.BatchNormalization())\n",
        "        downsmaple_model.add(tf.keras.layers.LeakyReLU())\n",
        "\n",
        "        downsmaple_model.add(tf.keras.layers.Conv2D(256, (4, 4), strides=2, padding='same', use_bias=False))\n",
        "        downsmaple_model.add(tf.keras.layers.BatchNormalization())\n",
        "        downsmaple_model.add(tf.keras.layers.LeakyReLU())\n",
        "\n",
        "        downsmaple_model.add(tf.keras.layers.Conv2D(512, (4, 4), strides=2, padding='same', use_bias=False))\n",
        "        downsmaple_model.add(tf.keras.layers.BatchNormalization())\n",
        "        downsmaple_model.add(tf.keras.layers.LeakyReLU())\n",
        "\n",
        "        x = downsmaple_model(img)\n",
        "\n",
        "        merged_x = tf.concat([x, text_embedding])\n",
        "\n",
        "        \n",
        "\n",
        "        \n",
        "\n",
        "    def embedding_compressor_model(self, text_embedding):\n",
        "        # input 22, 256 \n",
        "        # output (4,4, 128)\n",
        "        text_embedding\n",
        "        "
      ],
      "execution_count": 0,
      "outputs": []
    },
    {
      "cell_type": "code",
      "metadata": {
        "id": "kaIDNIh8cIeH",
        "colab_type": "code",
        "colab": {}
      },
      "source": [
        ""
      ],
      "execution_count": 0,
      "outputs": []
    },
    {
      "cell_type": "code",
      "metadata": {
        "id": "8p0sKIyPrgnz",
        "colab_type": "code",
        "outputId": "eb7a5268-58c0-40ba-f3ec-cf2d09c74a39",
        "colab": {
          "base_uri": "https://localhost:8080/",
          "height": 282
        }
      },
      "source": [
        "generator = stage1_generator_model()\n",
        "\n",
        "noise = tf.random.normal([1, 100])\n",
        "generated_image = generator(noise, training=False)\n",
        "\n",
        "plt.imshow(generated_image[0, :, :, 0], cmap='gray')"
      ],
      "execution_count": 0,
      "outputs": [
        {
          "output_type": "execute_result",
          "data": {
            "text/plain": [
              "<matplotlib.image.AxesImage at 0x7f7e75a86978>"
            ]
          },
          "metadata": {
            "tags": []
          },
          "execution_count": 7
        },
        {
          "output_type": "display_data",
          "data": {
            "image/png": "[encoded data removed]",
            "text/plain": [
              "<Figure size 432x288 with 1 Axes>"
            ]
          },
          "metadata": {
            "tags": [],
            "needs_background": "light"
          }
        }
      ]
    }
  ]
}